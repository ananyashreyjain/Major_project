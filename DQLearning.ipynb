{
 "cells": [
  {
   "cell_type": "code",
   "execution_count": 1,
   "metadata": {},
   "outputs": [
    {
     "name": "stdout",
     "output_type": "stream",
     "text": [
      "Using matplotlib backend: Qt5Agg\n"
     ]
    }
   ],
   "source": [
    "import tensorflow as tf\n",
    "from tensorflow.keras import Sequential\n",
    "from tensorflow.keras.layers import Dense, Flatten, LSTM, Dropout\n",
    "from tensorflow.keras.optimizers import Adam, RMSprop\n",
    "from tensorflow.keras.callbacks import Callback\n",
    "from tensorflow.keras.models import load_model\n",
    "from collections import deque\n",
    "import numpy as np\n",
    "from tqdm import tqdm\n",
    "import random\n",
    "import os\n",
    "import matplotlib.pyplot as plt\n",
    "%matplotlib\n",
    "tf.compat.v1.disable_eager_execution()"
   ]
  },
  {
   "cell_type": "code",
   "execution_count": 2,
   "metadata": {},
   "outputs": [
    {
     "name": "stdout",
     "output_type": "stream",
     "text": [
      "Task file --> #TASK 2\n",
      "\n"
     ]
    }
   ],
   "source": [
    "#Important Parameters\n",
    "AGENT_MEMORY = 50000\n",
    "UPDATE_AFTER_EPISODES = 7\n",
    "HIDDEN_LAYERS= [64, 128]\n",
    "BATCH_SIZE = 64\n",
    "DISCOUNT = 0.997\n",
    "LEARNING_RATE = 0.001\n",
    "LOSS_FUNCTION = 'mse'\n",
    "AVG_OF_LAST = 100\n",
    "TASK = 2\n",
    "\n",
    "#Unimportant Parameters\n",
    "OPTIMIZER = Adam(lr=LEARNING_RATE)\n",
    "RENDER_AFTER_EPISODES = 25\n",
    "q_new = lambda q_max, reward: (reward + DISCOUNT * q_max)\n",
    "TOTAL_EPISODES = 1000\n",
    "MAX_EPSILON = 1\n",
    "EPSILON_DECAY = 0.9975\n",
    "MIN_EPSILON = 0.0005\n",
    "DROP_PRECENT = 0.25\n",
    "PLAY = True\n",
    "PLAY_EPISODES = 100\n",
    "SHOW = False\n",
    "PLOT = True\n",
    "TRAIN = True\n",
    "\n",
    "#Kernel Parameters\n",
    "SAVE_AT_AVG = 400\n",
    "ONLINE = False\n",
    "TPU = True\n",
    "if ONLINE:\n",
    "    from google.colab import drive\n",
    "    drive.mount(\"/content/drive\")\n",
    "\n",
    "#User Settings\n",
    "ONLINE_PATH1 = f\"/content/drive/My\\ Drive/task{TASK}.py\"\n",
    "ONLINE_PATH2 = \"/usr/local/lib/python3.6/dist-packages/gym/envs/classic_control/cartpole.py\"\n",
    "ONLINE_SAVE_PATH = \"/content/drive/My Drive\"\n",
    "OFFLINE_PATH1 = f\"/home/anany/ML_project/task{TASK}.py\"\n",
    "OFFLINE_PATH2 = \"/home/anany/anaconda3/envs/ML/lib/python3.6/site-packages/gym/envs/classic_control/cartpole.py\"\n",
    "OFFLINE_SAVE_PATH = \"/home/anany/ML_project\"\n",
    "PATH1 = ONLINE_PATH1 if ONLINE else OFFLINE_PATH1\n",
    "PATH2 = ONLINE_PATH2 if ONLINE else OFFLINE_PATH2\n",
    "SAVE = ONLINE_SAVE_PATH if ONLINE else OFFLINE_SAVE_PATH\n",
    "os.system('cp '+ PATH1 + ' ' + PATH2)\n",
    "with open(PATH2, 'r') as f:\n",
    "    print(f\"Task file --> {f.readline()}\")"
   ]
  },
  {
   "cell_type": "code",
   "execution_count": 3,
   "metadata": {},
   "outputs": [],
   "source": [
    "def plot(scores=[]):\n",
    "    if PLOT:\n",
    "        plt.clf()\n",
    "        avg_scores = [sum(scores[:index+1])/(index+1) for index, \n",
    "                      score in enumerate(scores)]\n",
    "        avg_score = sum(scores)/len(scores)\n",
    "        x_val = [0,len(scores)-1]\n",
    "        y_val = [avg_score, avg_score]\n",
    "        plt.plot(scores,'g-', label='current score')\n",
    "        plt.plot(x_val, y_val,'r-', label='average score')\n",
    "        plt.plot(avg_scores,'b-', label='average scores')\n",
    "        if len(scores) >= AVG_OF_LAST:\n",
    "            avg_of_last = sum(scores[-1*AVG_OF_LAST:])/AVG_OF_LAST\n",
    "            y_val = [avg_of_last, avg_of_last]\n",
    "            plt.plot(x_val, y_val, 'k-', label=f'average scores of last {AVG_OF_LAST}')\n",
    "        plt.xlabel('Epochs--->')\n",
    "        plt.ylabel('Score--->')\n",
    "        plt.legend()\n",
    "        plt.pause(0.05)"
   ]
  },
  {
   "cell_type": "code",
   "execution_count": 4,
   "metadata": {},
   "outputs": [],
   "source": [
    "if TPU and ONLINE:\n",
    "    resolver = tf.distribute.cluster_resolver.TPUClusterResolver(tpu='grpc://' + os.environ['COLAB_TPU_ADDR'])\n",
    "    tf.config.experimental_connect_to_cluster(resolver)\n",
    "    tf.tpu.experimental.initialize_tpu_system(resolver)\n",
    "    strategy = tf.distribute.experimental.TPUStrategy(resolver)"
   ]
  },
  {
   "cell_type": "code",
   "execution_count": 5,
   "metadata": {},
   "outputs": [],
   "source": [
    "class Agent:\n",
    "\n",
    "    def __init__(self):\n",
    "        self.state = env.reset().tolist()\n",
    "        self.done = False\n",
    "        self.total_score = 0\n",
    "        self.score_per_episode = 0\n",
    "        self.all_scores = [0]\n",
    "        self.render = True\n",
    "        self.epsilon = MAX_EPSILON\n",
    "        self.avg_score = 0\n",
    "        self.present_q_model = Sequential()\n",
    "        self.present_q_model.add(Dense(HIDDEN_LAYERS[0],\n",
    "                                       input_shape=(env.observation_space.low.size,),\n",
    "                                       activation='relu'))\n",
    "        self.present_q_model.add(Dropout(DROP_PRECENT))\n",
    "        for index in range(1, len(HIDDEN_LAYERS)):\n",
    "            self.present_q_model.add(Dense(HIDDEN_LAYERS[index],activation='relu'))\n",
    "            self.present_q_model.add(Dropout(DROP_PRECENT))\n",
    "        self.present_q_model.add(Dense(env.action_space.n,activation='linear'))\n",
    "        self.present_q_model.compile(loss=LOSS_FUNCTION, optimizer=OPTIMIZER,\n",
    "                                     metrics=['accuracy'])\n",
    "        \n",
    "        self.future_q_model = Sequential()\n",
    "        self.future_q_model.add(Dense(HIDDEN_LAYERS[0],\n",
    "                                      input_shape=(env.observation_space.low.size,),\n",
    "                                      activation='relu'))\n",
    "        self.future_q_model.add(Dropout(DROP_PRECENT))\n",
    "        for index in range(1, len(HIDDEN_LAYERS)):\n",
    "            self.future_q_model.add(Dense(HIDDEN_LAYERS[index],activation='relu'))\n",
    "            self.future_q_model.add(Dropout(DROP_PRECENT))\n",
    "        self.future_q_model.add(Dense(env.action_space.n,activation='linear'))\n",
    "        self.future_q_model.compile(loss=LOSS_FUNCTION, optimizer=OPTIMIZER, \n",
    "                                    metrics=['accuracy'])\n",
    "\n",
    "        self.future_q_model.set_weights(self.present_q_model.get_weights())\n",
    "        \n",
    "        self.memory = deque(maxlen=AGENT_MEMORY)\n",
    "        self.episodes = 0\n",
    "        print(self.present_q_model.summary())\n",
    "        print(self.future_q_model.summary())\n",
    "        \n",
    "    def train(self):\n",
    "        if len(self.memory) < BATCH_SIZE :\n",
    "            return\n",
    "        \n",
    "        batch = random.sample(self.memory, BATCH_SIZE)\n",
    "        present_q_values = self.present_q_model.predict(np.array([x[1] for x in batch]))\n",
    "        #future_q2_values = self.present_q_model.predict(np.array([x[3] for x in batch]))\n",
    "        future_q_values = self.future_q_model.predict(np.array([x[3] for x in batch]))\n",
    "        for index, slot in enumerate(batch):\n",
    "            if not slot[4]:\n",
    "                #action_pred = np.argmax(future_q2_values[index])\n",
    "                #q_future_max = future_q_values[index][action_pred]\n",
    "                q_future_max = np.max(future_q_values[index])\n",
    "                qnew = q_new(q_future_max, slot[2])\n",
    "            else:\n",
    "                qnew = slot[2]\n",
    "            \n",
    "            present_q_values[index][slot[0]] = qnew\n",
    "            \n",
    "        X = np.array([slot[1] for slot in batch])\n",
    "        Y = present_q_values\n",
    "        \n",
    "        history = self.present_q_model.fit(X, Y, batch_size=BATCH_SIZE,\n",
    "                                           shuffle=False, verbose = 0)\n",
    "        \n",
    "        if self.episodes % UPDATE_AFTER_EPISODES == 0:\n",
    "            self.future_q_model.set_weights(self.present_q_model.get_weights())\n",
    "                \n",
    "    def next_action(self):\n",
    "        q_values = self.present_q_model.predict(np.array([self.state]))\n",
    "        \n",
    "        if np.random.random() > self.epsilon:\n",
    "            action = np.argmax(q_values)\n",
    "        else:\n",
    "            action = np.random.randint(0, env.action_space.n)\n",
    "            \n",
    "        new_state, reward, done, info = env.step(action)\n",
    "        self.total_score += reward\n",
    "        self.score_per_episode += reward\n",
    "        \n",
    "        if done:\n",
    "            self.all_scores.append(self.score_per_episode)\n",
    "            self.score_per_episode = 0\n",
    "            if PLOT:\n",
    "                plot(self.all_scores)\n",
    "            self.episodes +=1\n",
    "            if self.episodes % RENDER_AFTER_EPISODES == 0:\n",
    "                self.render = True\n",
    "            else:\n",
    "                self.render = False\n",
    "                \n",
    "            if self.episodes % AVG_OF_LAST == 0:\n",
    "                self.avg_score = self.total_score/AVG_OF_LAST\n",
    "                print(f\"Average Score = {self.avg_score}\")\n",
    "                self.total_score = 0\n",
    "                        \n",
    "        if self.render:\n",
    "            #env.render()\n",
    "            None\n",
    "            \n",
    "            \n",
    "        self.memory.append([action, self.state, reward, new_state, done])\n",
    "        self.state = new_state.tolist() if not done else env.reset()\n",
    "        \n",
    "        self.train()\n",
    "        if self.epsilon > MIN_EPSILON:\n",
    "            self.epsilon *= EPSILON_DECAY\n",
    "            self.epsilon = max(MIN_EPSILON, self.epsilon)\n",
    "        \n",
    "        return done\n",
    "        "
   ]
  },
  {
   "cell_type": "code",
   "execution_count": 6,
   "metadata": {
    "scrolled": true
   },
   "outputs": [
    {
     "name": "stdout",
     "output_type": "stream",
     "text": [
      "CartPoleEnv - Version 0.2.0, Noise case: 1\n",
      "WARNING:tensorflow:From /home/anany/anaconda3/envs/ML/lib/python3.6/site-packages/tensorflow_core/python/ops/resource_variable_ops.py:1630: calling BaseResourceVariable.__init__ (from tensorflow.python.ops.resource_variable_ops) with constraint is deprecated and will be removed in a future version.\n",
      "Instructions for updating:\n",
      "If using Keras pass *_constraint arguments to layers.\n"
     ]
    },
    {
     "name": "stderr",
     "output_type": "stream",
     "text": [
      "/home/anany/anaconda3/envs/ML/lib/python3.6/site-packages/gym/logger.py:30: UserWarning: \u001b[33mWARN: Environment '<class 'gym.envs.classic_control.cartpole.CartPoleEnv'>' has deprecated methods '_step' and '_reset' rather than 'step' and 'reset'. Compatibility code invoked. Set _gym_disable_underscore_compat = True to disable this behavior.\u001b[0m\n",
      "  warnings.warn(colorize('%s: %s'%('WARN', msg % args), 'yellow'))\n",
      "  0%|          | 0/1000 [00:00<?, ?it/s]"
     ]
    },
    {
     "name": "stdout",
     "output_type": "stream",
     "text": [
      "Model: \"sequential\"\n",
      "_________________________________________________________________\n",
      "Layer (type)                 Output Shape              Param #   \n",
      "=================================================================\n",
      "dense (Dense)                (None, 64)                320       \n",
      "_________________________________________________________________\n",
      "dropout (Dropout)            (None, 64)                0         \n",
      "_________________________________________________________________\n",
      "dense_1 (Dense)              (None, 128)               8320      \n",
      "_________________________________________________________________\n",
      "dropout_1 (Dropout)          (None, 128)               0         \n",
      "_________________________________________________________________\n",
      "dense_2 (Dense)              (None, 2)                 258       \n",
      "=================================================================\n",
      "Total params: 8,898\n",
      "Trainable params: 8,898\n",
      "Non-trainable params: 0\n",
      "_________________________________________________________________\n",
      "None\n",
      "Model: \"sequential_1\"\n",
      "_________________________________________________________________\n",
      "Layer (type)                 Output Shape              Param #   \n",
      "=================================================================\n",
      "dense_3 (Dense)              (None, 64)                320       \n",
      "_________________________________________________________________\n",
      "dropout_2 (Dropout)          (None, 64)                0         \n",
      "_________________________________________________________________\n",
      "dense_4 (Dense)              (None, 128)               8320      \n",
      "_________________________________________________________________\n",
      "dropout_3 (Dropout)          (None, 128)               0         \n",
      "_________________________________________________________________\n",
      "dense_5 (Dense)              (None, 2)                 258       \n",
      "=================================================================\n",
      "Total params: 8,898\n",
      "Trainable params: 8,898\n",
      "Non-trainable params: 0\n",
      "_________________________________________________________________\n",
      "None\n"
     ]
    },
    {
     "name": "stderr",
     "output_type": "stream",
     "text": [
      " 10%|█         | 100/1000 [00:47<22:23,  1.49s/it]"
     ]
    },
    {
     "name": "stdout",
     "output_type": "stream",
     "text": [
      "Average Score = 37.59\n"
     ]
    },
    {
     "name": "stderr",
     "output_type": "stream",
     "text": [
      " 20%|██        | 200/1000 [03:28<40:26,  3.03s/it]"
     ]
    },
    {
     "name": "stdout",
     "output_type": "stream",
     "text": [
      "Average Score = 152.96\n"
     ]
    },
    {
     "name": "stderr",
     "output_type": "stream",
     "text": [
      " 30%|███       | 300/1000 [06:28<20:46,  1.78s/it]"
     ]
    },
    {
     "name": "stdout",
     "output_type": "stream",
     "text": [
      "Average Score = 136.55\n"
     ]
    },
    {
     "name": "stderr",
     "output_type": "stream",
     "text": [
      " 39%|███▉      | 393/1000 [12:40<48:40,  4.81s/it]  "
     ]
    },
    {
     "ename": "KeyboardInterrupt",
     "evalue": "",
     "output_type": "error",
     "traceback": [
      "\u001b[0;31m---------------------------------------------------------------------------\u001b[0m",
      "\u001b[0;31mKeyboardInterrupt\u001b[0m                         Traceback (most recent call last)",
      "\u001b[0;32m<ipython-input-6-8af100d54b64>\u001b[0m in \u001b[0;36m<module>\u001b[0;34m\u001b[0m\n\u001b[1;32m      7\u001b[0m     \u001b[0;32mfor\u001b[0m \u001b[0mepisode\u001b[0m \u001b[0;32min\u001b[0m \u001b[0mtqdm\u001b[0m\u001b[0;34m(\u001b[0m\u001b[0mrange\u001b[0m\u001b[0;34m(\u001b[0m\u001b[0mTOTAL_EPISODES\u001b[0m\u001b[0;34m)\u001b[0m\u001b[0;34m)\u001b[0m\u001b[0;34m:\u001b[0m\u001b[0;34m\u001b[0m\u001b[0;34m\u001b[0m\u001b[0m\n\u001b[1;32m      8\u001b[0m         \u001b[0;32mwhile\u001b[0m \u001b[0;32mTrue\u001b[0m\u001b[0;34m:\u001b[0m\u001b[0;34m\u001b[0m\u001b[0;34m\u001b[0m\u001b[0m\n\u001b[0;32m----> 9\u001b[0;31m             \u001b[0mstop\u001b[0m \u001b[0;34m=\u001b[0m \u001b[0magent\u001b[0m\u001b[0;34m.\u001b[0m\u001b[0mnext_action\u001b[0m\u001b[0;34m(\u001b[0m\u001b[0;34m)\u001b[0m\u001b[0;34m\u001b[0m\u001b[0;34m\u001b[0m\u001b[0m\n\u001b[0m\u001b[1;32m     10\u001b[0m             \u001b[0;32mif\u001b[0m \u001b[0mstop\u001b[0m\u001b[0;34m:\u001b[0m\u001b[0;34m\u001b[0m\u001b[0;34m\u001b[0m\u001b[0m\n\u001b[1;32m     11\u001b[0m                 \u001b[0;32mif\u001b[0m \u001b[0mmax_score\u001b[0m \u001b[0;34m<=\u001b[0m \u001b[0magent\u001b[0m\u001b[0;34m.\u001b[0m\u001b[0mall_scores\u001b[0m\u001b[0;34m[\u001b[0m\u001b[0;34m-\u001b[0m\u001b[0;36m1\u001b[0m\u001b[0;34m]\u001b[0m\u001b[0;34m:\u001b[0m\u001b[0;34m\u001b[0m\u001b[0;34m\u001b[0m\u001b[0m\n",
      "\u001b[0;32m<ipython-input-5-4daf1eeab4d7>\u001b[0m in \u001b[0;36mnext_action\u001b[0;34m(self)\u001b[0m\n\u001b[1;32m     70\u001b[0m \u001b[0;34m\u001b[0m\u001b[0m\n\u001b[1;32m     71\u001b[0m     \u001b[0;32mdef\u001b[0m \u001b[0mnext_action\u001b[0m\u001b[0;34m(\u001b[0m\u001b[0mself\u001b[0m\u001b[0;34m)\u001b[0m\u001b[0;34m:\u001b[0m\u001b[0;34m\u001b[0m\u001b[0;34m\u001b[0m\u001b[0m\n\u001b[0;32m---> 72\u001b[0;31m         \u001b[0mq_values\u001b[0m \u001b[0;34m=\u001b[0m \u001b[0mself\u001b[0m\u001b[0;34m.\u001b[0m\u001b[0mpresent_q_model\u001b[0m\u001b[0;34m.\u001b[0m\u001b[0mpredict\u001b[0m\u001b[0;34m(\u001b[0m\u001b[0mnp\u001b[0m\u001b[0;34m.\u001b[0m\u001b[0marray\u001b[0m\u001b[0;34m(\u001b[0m\u001b[0;34m[\u001b[0m\u001b[0mself\u001b[0m\u001b[0;34m.\u001b[0m\u001b[0mstate\u001b[0m\u001b[0;34m]\u001b[0m\u001b[0;34m)\u001b[0m\u001b[0;34m)\u001b[0m\u001b[0;34m\u001b[0m\u001b[0;34m\u001b[0m\u001b[0m\n\u001b[0m\u001b[1;32m     73\u001b[0m \u001b[0;34m\u001b[0m\u001b[0m\n\u001b[1;32m     74\u001b[0m         \u001b[0;32mif\u001b[0m \u001b[0mnp\u001b[0m\u001b[0;34m.\u001b[0m\u001b[0mrandom\u001b[0m\u001b[0;34m.\u001b[0m\u001b[0mrandom\u001b[0m\u001b[0;34m(\u001b[0m\u001b[0;34m)\u001b[0m \u001b[0;34m>\u001b[0m \u001b[0mself\u001b[0m\u001b[0;34m.\u001b[0m\u001b[0mepsilon\u001b[0m\u001b[0;34m:\u001b[0m\u001b[0;34m\u001b[0m\u001b[0;34m\u001b[0m\u001b[0m\n",
      "\u001b[0;32m~/anaconda3/envs/ML/lib/python3.6/site-packages/tensorflow_core/python/keras/engine/training.py\u001b[0m in \u001b[0;36mpredict\u001b[0;34m(self, x, batch_size, verbose, steps, callbacks, max_queue_size, workers, use_multiprocessing)\u001b[0m\n\u001b[1;32m    906\u001b[0m         \u001b[0mmax_queue_size\u001b[0m\u001b[0;34m=\u001b[0m\u001b[0mmax_queue_size\u001b[0m\u001b[0;34m,\u001b[0m\u001b[0;34m\u001b[0m\u001b[0;34m\u001b[0m\u001b[0m\n\u001b[1;32m    907\u001b[0m         \u001b[0mworkers\u001b[0m\u001b[0;34m=\u001b[0m\u001b[0mworkers\u001b[0m\u001b[0;34m,\u001b[0m\u001b[0;34m\u001b[0m\u001b[0;34m\u001b[0m\u001b[0m\n\u001b[0;32m--> 908\u001b[0;31m         use_multiprocessing=use_multiprocessing)\n\u001b[0m\u001b[1;32m    909\u001b[0m \u001b[0;34m\u001b[0m\u001b[0m\n\u001b[1;32m    910\u001b[0m   \u001b[0;32mdef\u001b[0m \u001b[0mreset_metrics\u001b[0m\u001b[0;34m(\u001b[0m\u001b[0mself\u001b[0m\u001b[0;34m)\u001b[0m\u001b[0;34m:\u001b[0m\u001b[0;34m\u001b[0m\u001b[0;34m\u001b[0m\u001b[0m\n",
      "\u001b[0;32m~/anaconda3/envs/ML/lib/python3.6/site-packages/tensorflow_core/python/keras/engine/training_arrays.py\u001b[0m in \u001b[0;36mpredict\u001b[0;34m(self, model, x, batch_size, verbose, steps, callbacks, **kwargs)\u001b[0m\n\u001b[1;32m    721\u001b[0m         \u001b[0mverbose\u001b[0m\u001b[0;34m=\u001b[0m\u001b[0mverbose\u001b[0m\u001b[0;34m,\u001b[0m\u001b[0;34m\u001b[0m\u001b[0;34m\u001b[0m\u001b[0m\n\u001b[1;32m    722\u001b[0m         \u001b[0msteps\u001b[0m\u001b[0;34m=\u001b[0m\u001b[0msteps\u001b[0m\u001b[0;34m,\u001b[0m\u001b[0;34m\u001b[0m\u001b[0;34m\u001b[0m\u001b[0m\n\u001b[0;32m--> 723\u001b[0;31m         callbacks=callbacks)\n\u001b[0m",
      "\u001b[0;32m~/anaconda3/envs/ML/lib/python3.6/site-packages/tensorflow_core/python/keras/engine/training_arrays.py\u001b[0m in \u001b[0;36mmodel_iteration\u001b[0;34m(model, inputs, targets, sample_weights, batch_size, epochs, verbose, callbacks, val_inputs, val_targets, val_sample_weights, shuffle, initial_epoch, steps_per_epoch, validation_steps, validation_freq, mode, validation_in_fit, prepared_feed_values_from_dataset, steps_name, **kwargs)\u001b[0m\n\u001b[1;32m    392\u001b[0m \u001b[0;34m\u001b[0m\u001b[0m\n\u001b[1;32m    393\u001b[0m         \u001b[0;31m# Get outputs.\u001b[0m\u001b[0;34m\u001b[0m\u001b[0;34m\u001b[0m\u001b[0;34m\u001b[0m\u001b[0m\n\u001b[0;32m--> 394\u001b[0;31m         \u001b[0mbatch_outs\u001b[0m \u001b[0;34m=\u001b[0m \u001b[0mf\u001b[0m\u001b[0;34m(\u001b[0m\u001b[0mins_batch\u001b[0m\u001b[0;34m)\u001b[0m\u001b[0;34m\u001b[0m\u001b[0;34m\u001b[0m\u001b[0m\n\u001b[0m\u001b[1;32m    395\u001b[0m         \u001b[0;32mif\u001b[0m \u001b[0;32mnot\u001b[0m \u001b[0misinstance\u001b[0m\u001b[0;34m(\u001b[0m\u001b[0mbatch_outs\u001b[0m\u001b[0;34m,\u001b[0m \u001b[0mlist\u001b[0m\u001b[0;34m)\u001b[0m\u001b[0;34m:\u001b[0m\u001b[0;34m\u001b[0m\u001b[0;34m\u001b[0m\u001b[0m\n\u001b[1;32m    396\u001b[0m           \u001b[0mbatch_outs\u001b[0m \u001b[0;34m=\u001b[0m \u001b[0;34m[\u001b[0m\u001b[0mbatch_outs\u001b[0m\u001b[0;34m]\u001b[0m\u001b[0;34m\u001b[0m\u001b[0;34m\u001b[0m\u001b[0m\n",
      "\u001b[0;32m~/anaconda3/envs/ML/lib/python3.6/site-packages/tensorflow_core/python/keras/backend.py\u001b[0m in \u001b[0;36m__call__\u001b[0;34m(self, inputs)\u001b[0m\n\u001b[1;32m   3479\u001b[0m         \u001b[0mself\u001b[0m\u001b[0;34m.\u001b[0m\u001b[0m_outputs_structure\u001b[0m\u001b[0;34m,\u001b[0m\u001b[0;34m\u001b[0m\u001b[0;34m\u001b[0m\u001b[0m\n\u001b[1;32m   3480\u001b[0m         \u001b[0mfetched\u001b[0m\u001b[0;34m[\u001b[0m\u001b[0;34m:\u001b[0m\u001b[0mlen\u001b[0m\u001b[0;34m(\u001b[0m\u001b[0mself\u001b[0m\u001b[0;34m.\u001b[0m\u001b[0moutputs\u001b[0m\u001b[0;34m)\u001b[0m\u001b[0;34m]\u001b[0m\u001b[0;34m,\u001b[0m\u001b[0;34m\u001b[0m\u001b[0;34m\u001b[0m\u001b[0m\n\u001b[0;32m-> 3481\u001b[0;31m         expand_composites=True)\n\u001b[0m\u001b[1;32m   3482\u001b[0m     \u001b[0;31m# We need to evaluate any composite tensor objects that have been\u001b[0m\u001b[0;34m\u001b[0m\u001b[0;34m\u001b[0m\u001b[0;34m\u001b[0m\u001b[0m\n\u001b[1;32m   3483\u001b[0m     \u001b[0;31m# reconstructed in 'pack_sequence_as', since otherwise they'll be output as\u001b[0m\u001b[0;34m\u001b[0m\u001b[0;34m\u001b[0m\u001b[0;34m\u001b[0m\u001b[0m\n",
      "\u001b[0;32m~/anaconda3/envs/ML/lib/python3.6/site-packages/tensorflow_core/python/util/nest.py\u001b[0m in \u001b[0;36mpack_sequence_as\u001b[0;34m(structure, flat_sequence, expand_composites)\u001b[0m\n\u001b[1;32m    470\u001b[0m           \u001b[0;34m\"flat_sequence had %d elements.  Structure: %s, flat_sequence: %s.\"\u001b[0m \u001b[0;34m%\u001b[0m\u001b[0;34m\u001b[0m\u001b[0;34m\u001b[0m\u001b[0m\n\u001b[1;32m    471\u001b[0m           (len(flat_structure), len(flat_sequence), structure, flat_sequence))\n\u001b[0;32m--> 472\u001b[0;31m   \u001b[0;32mreturn\u001b[0m \u001b[0m_sequence_like\u001b[0m\u001b[0;34m(\u001b[0m\u001b[0mstructure\u001b[0m\u001b[0;34m,\u001b[0m \u001b[0mpacked\u001b[0m\u001b[0;34m)\u001b[0m\u001b[0;34m\u001b[0m\u001b[0;34m\u001b[0m\u001b[0m\n\u001b[0m\u001b[1;32m    473\u001b[0m \u001b[0;34m\u001b[0m\u001b[0m\n\u001b[1;32m    474\u001b[0m \u001b[0;34m\u001b[0m\u001b[0m\n",
      "\u001b[0;32m~/anaconda3/envs/ML/lib/python3.6/site-packages/tensorflow_core/python/util/nest.py\u001b[0m in \u001b[0;36m_sequence_like\u001b[0;34m(instance, args)\u001b[0m\n\u001b[1;32m    128\u001b[0m     \u001b[0;31m`\u001b[0m\u001b[0margs\u001b[0m\u001b[0;31m`\u001b[0m \u001b[0;32mwith\u001b[0m \u001b[0mthe\u001b[0m \u001b[0mtype\u001b[0m \u001b[0mof\u001b[0m\u001b[0;31m \u001b[0m\u001b[0;31m`\u001b[0m\u001b[0minstance\u001b[0m\u001b[0;31m`\u001b[0m\u001b[0;34m.\u001b[0m\u001b[0;34m\u001b[0m\u001b[0;34m\u001b[0m\u001b[0m\n\u001b[1;32m    129\u001b[0m   \"\"\"\n\u001b[0;32m--> 130\u001b[0;31m   \u001b[0;32mif\u001b[0m \u001b[0m_is_mapping\u001b[0m\u001b[0;34m(\u001b[0m\u001b[0minstance\u001b[0m\u001b[0;34m)\u001b[0m\u001b[0;34m:\u001b[0m\u001b[0;34m\u001b[0m\u001b[0;34m\u001b[0m\u001b[0m\n\u001b[0m\u001b[1;32m    131\u001b[0m     \u001b[0;31m# Pack dictionaries in a deterministic order by sorting the keys.\u001b[0m\u001b[0;34m\u001b[0m\u001b[0;34m\u001b[0m\u001b[0;34m\u001b[0m\u001b[0m\n\u001b[1;32m    132\u001b[0m     \u001b[0;31m# Notice this means that we ignore the original order of `OrderedDict`\u001b[0m\u001b[0;34m\u001b[0m\u001b[0;34m\u001b[0m\u001b[0;34m\u001b[0m\u001b[0m\n",
      "\u001b[0;32m~/anaconda3/envs/ML/lib/python3.6/site-packages/tensorflow_core/python/pywrap_tensorflow_internal.py\u001b[0m in \u001b[0;36mIsMapping\u001b[0;34m(o)\u001b[0m\n\u001b[1;32m   2569\u001b[0m \u001b[0;34m\u001b[0m\u001b[0m\n\u001b[1;32m   2570\u001b[0m     \"\"\"\n\u001b[0;32m-> 2571\u001b[0;31m     \u001b[0;32mreturn\u001b[0m \u001b[0m_pywrap_tensorflow_internal\u001b[0m\u001b[0;34m.\u001b[0m\u001b[0mIsMapping\u001b[0m\u001b[0;34m(\u001b[0m\u001b[0mo\u001b[0m\u001b[0;34m)\u001b[0m\u001b[0;34m\u001b[0m\u001b[0;34m\u001b[0m\u001b[0m\n\u001b[0m\u001b[1;32m   2572\u001b[0m \u001b[0;34m\u001b[0m\u001b[0m\n\u001b[1;32m   2573\u001b[0m \u001b[0;32mdef\u001b[0m \u001b[0mIsMappingView\u001b[0m\u001b[0;34m(\u001b[0m\u001b[0mo\u001b[0m\u001b[0;34m)\u001b[0m\u001b[0;34m:\u001b[0m\u001b[0;34m\u001b[0m\u001b[0;34m\u001b[0m\u001b[0m\n",
      "\u001b[0;31mKeyboardInterrupt\u001b[0m: "
     ]
    }
   ],
   "source": [
    "if TRAIN:\n",
    "    import gym\n",
    "    env = gym.make('CartPole-v1')\n",
    "    agent = Agent()\n",
    "    max_score = 0\n",
    "    max_avg = 0\n",
    "    for episode in tqdm(range(TOTAL_EPISODES)):\n",
    "        while True:\n",
    "            stop = agent.next_action()\n",
    "            if stop:\n",
    "                if max_score <= agent.all_scores[-1]:\n",
    "                    os.system('rm '+ f\"{SAVE}/peak_model-{TASK}-{max_score}.h5\")\n",
    "                    try:\n",
    "                        max_score = agent.all_scores[-1]\n",
    "                        agent.present_q_model.save(f\"{SAVE}/peak_model-{TASK}-{max_score}.h5\")\n",
    "                    except KeyboardInterrupt:\n",
    "                        max_score = agent.all_scores[-1]\n",
    "                        agent.present_q_model.save(f\"{SAVE}/peak_model-{TASK}-{max_score}.h5\")\n",
    "                        raise KeyboardInterrupt\n",
    "                if episode >= AVG_OF_LAST:\n",
    "                    max_avg = max(sum(agent.all_scores[-1*AVG_OF_LAST:])/AVG_OF_LAST, max_avg)\n",
    "                    if max_avg >= SAVE_AT_AVG:\n",
    "                        agent.present_q_model.save(f\"{SAVE}/avg_model-{TASK}-{max_avg}.h5\")\n",
    "                        print(\"saved\")\n",
    "                break"
   ]
  },
  {
   "cell_type": "code",
   "execution_count": null,
   "metadata": {},
   "outputs": [],
   "source": [
    "if PLAY:\n",
    "    import gym\n",
    "    env = gym.make('CartPole-v1')\n",
    "    score = input(\"Enter the score of the model you want to load \")\n",
    "    model_type = input(\"Enter model type peak_model or avg_model \")\n",
    "    trained_agent = load_model(f\"{SAVE}/{model_type}-{TASK}-{score}.h5\")\n",
    "    state = env.reset()\n",
    "    scores = []\n",
    "    for _ in tqdm(range(PLAY_EPISODES)):\n",
    "        env.reset()\n",
    "        score_per_episode = 0\n",
    "        while True:\n",
    "            action = np.argmax(trained_agent.predict(np.array([state])))\n",
    "            state, reward, done, info = env.step(action)\n",
    "            score_per_episode += reward\n",
    "            if SHOW:\n",
    "                env.render()\n",
    "            if done:\n",
    "                scores.append(score_per_episode)\n",
    "                break\n",
    "        if PLOT:\n",
    "            plot(scores)\n",
    "    print(sum(scores)/PLAY_EPISODES)"
   ]
  },
  {
   "cell_type": "code",
   "execution_count": null,
   "metadata": {},
   "outputs": [],
   "source": []
  }
 ],
 "metadata": {
  "kernelspec": {
   "display_name": "Python 3",
   "language": "python",
   "name": "python3"
  },
  "language_info": {
   "codemirror_mode": {
    "name": "ipython",
    "version": 3
   },
   "file_extension": ".py",
   "mimetype": "text/x-python",
   "name": "python",
   "nbconvert_exporter": "python",
   "pygments_lexer": "ipython3",
   "version": "3.6.10"
  }
 },
 "nbformat": 4,
 "nbformat_minor": 4
}
