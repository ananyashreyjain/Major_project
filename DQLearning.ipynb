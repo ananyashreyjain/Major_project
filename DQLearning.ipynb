{
 "cells": [
  {
   "cell_type": "code",
   "execution_count": 1,
   "metadata": {},
   "outputs": [
    {
     "name": "stdout",
     "output_type": "stream",
     "text": [
      "Using matplotlib backend: Qt5Agg\n"
     ]
    }
   ],
   "source": [
    "import tensorflow as tf\n",
    "from tensorflow.keras import Sequential\n",
    "from tensorflow.keras.layers import Dense, Flatten, LSTM, Dropout\n",
    "from tensorflow.keras.optimizers import Adam, RMSprop\n",
    "from tensorflow.keras.callbacks import Callback\n",
    "from tensorflow.keras.models import load_model\n",
    "from collections import deque\n",
    "import numpy as np\n",
    "from tqdm import tqdm\n",
    "import random\n",
    "import os\n",
    "import matplotlib.pyplot as plt\n",
    "%matplotlib\n",
    "tf.compat.v1.disable_eager_execution()"
   ]
  },
  {
   "cell_type": "code",
   "execution_count": 2,
   "metadata": {},
   "outputs": [
    {
     "name": "stdout",
     "output_type": "stream",
     "text": [
      "Task file --> #TASK 1\n",
      "\n"
     ]
    }
   ],
   "source": [
    "#Important Parameters\n",
    "AGENT_MEMORY = 50000\n",
    "UPDATE_AFTER_EPISODES = 5\n",
    "HIDDEN_LAYERS= [128, 64]\n",
    "BATCH_SIZE = 32\n",
    "DISCOUNT = 0.99\n",
    "LEARNING_RATE = 0.005\n",
    "LOSS_FUNCTION = 'mse'\n",
    "AVG_OF_LAST = 100\n",
    "TASK = 1\n",
    "\n",
    "#Unimportant Parameters\n",
    "OPTIMIZER = Adam(lr=LEARNING_RATE)\n",
    "RENDER_AFTER_EPISODES = 25\n",
    "q_new = lambda q_max, reward: (reward + DISCOUNT * q_max)\n",
    "TOTAL_EPISODES = 1000\n",
    "MAX_EPSILON = 1\n",
    "EPSILON_DECAY = 0.975\n",
    "MIN_EPSILON = 0.001\n",
    "DROP_PRECENT = 0.1\n",
    "PLAY = True\n",
    "PLAY_EPISODES = 100\n",
    "SHOW = False\n",
    "PLOT = False\n",
    "\n",
    "#Kernel Parameters\n",
    "SAVE_AT_AVG = 400\n",
    "ONLINE = False\n",
    "TPU = True\n",
    "if ONLINE:\n",
    "    from google.colab import drive\n",
    "    drive.mount(\"/content/drive\")\n",
    "\n",
    "#User Settings\n",
    "ONLINE_PATH1 = f\"/content/drive/My\\ Drive/task{TASK}.py\"\n",
    "ONLINE_PATH2 = \"/usr/local/lib/python3.6/dist-packages/gym/envs/classic_control/cartpole.py\"\n",
    "ONLINE_SAVE_PATH = \"/content/drive/My Drive\"\n",
    "OFFLINE_PATH1 = f\"/home/anany/ML_project/task{TASK}.py\"\n",
    "OFFLINE_PATH2 = \"/home/anany/anaconda3/envs/ML/lib/python3.6/site-packages/gym/envs/classic_control/cartpole.py\"\n",
    "OFFLINE_SAVE_PATH = \"/home/anany/ML_project\"\n",
    "PATH1 = ONLINE_PATH1 if ONLINE else OFFLINE_PATH1\n",
    "PATH2 = ONLINE_PATH2 if ONLINE else OFFLINE_PATH2\n",
    "SAVE = ONLINE_SAVE_PATH if ONLINE else OFFLINE_SAVE_PATH\n",
    "os.system('cp '+ PATH1 + ' ' + PATH2)\n",
    "with open(PATH2, 'r') as f:\n",
    "    print(f\"Task file --> {f.readline()}\")"
   ]
  },
  {
   "cell_type": "code",
   "execution_count": 3,
   "metadata": {},
   "outputs": [],
   "source": [
    "if TPU and ONLINE:\n",
    "    resolver = tf.distribute.cluster_resolver.TPUClusterResolver(tpu='grpc://' + os.environ['COLAB_TPU_ADDR'])\n",
    "    tf.config.experimental_connect_to_cluster(resolver)\n",
    "    tf.tpu.experimental.initialize_tpu_system(resolver)\n",
    "    strategy = tf.distribute.experimental.TPUStrategy(resolver)"
   ]
  },
  {
   "cell_type": "code",
   "execution_count": 4,
   "metadata": {},
   "outputs": [],
   "source": [
    "class Agent:\n",
    "\n",
    "    def __init__(self):\n",
    "        self.state = env.reset().tolist()\n",
    "        self.done = False\n",
    "        self.total_score = 0\n",
    "        self.score_per_episode = 0\n",
    "        self.all_scores = [0]\n",
    "        self.render = True\n",
    "        self.epsilon = MAX_EPSILON\n",
    "        self.avg_score = 0\n",
    "        self.present_q_model = Sequential()\n",
    "        self.present_q_model.add(Dense(HIDDEN_LAYERS[0],\n",
    "                                       input_shape=(env.observation_space.low.size,),\n",
    "                                       activation='relu'))\n",
    "        self.present_q_model.add(Dropout(DROP_PRECENT))\n",
    "        for index in range(1, len(HIDDEN_LAYERS)):\n",
    "            self.present_q_model.add(Dense(HIDDEN_LAYERS[index],activation='relu'))\n",
    "            self.present_q_model.add(Dropout(DROP_PRECENT))\n",
    "        self.present_q_model.add(Dense(env.action_space.n,activation='linear'))\n",
    "        self.present_q_model.compile(loss=LOSS_FUNCTION, optimizer=OPTIMIZER,\n",
    "                                     metrics=['accuracy'])\n",
    "        \n",
    "        self.future_q_model = Sequential()\n",
    "        self.future_q_model.add(Dense(HIDDEN_LAYERS[0],\n",
    "                                      input_shape=(env.observation_space.low.size,),\n",
    "                                      activation='relu'))\n",
    "        self.future_q_model.add(Dropout(DROP_PRECENT))\n",
    "        for index in range(1, len(HIDDEN_LAYERS)):\n",
    "            self.future_q_model.add(Dense(HIDDEN_LAYERS[index],activation='relu'))\n",
    "            self.future_q_model.add(Dropout(DROP_PRECENT))\n",
    "        self.future_q_model.add(Dense(env.action_space.n,activation='linear'))\n",
    "        self.future_q_model.compile(loss=LOSS_FUNCTION, optimizer=OPTIMIZER, \n",
    "                                    metrics=['accuracy'])\n",
    "\n",
    "        self.future_q_model.set_weights(self.present_q_model.get_weights())\n",
    "        \n",
    "        self.memory = deque(maxlen=AGENT_MEMORY)\n",
    "        self.episodes = 0\n",
    "        print(self.present_q_model.summary())\n",
    "        print(self.future_q_model.summary())\n",
    "        \n",
    "    def train(self):\n",
    "        if len(self.memory) < BATCH_SIZE :\n",
    "            return\n",
    "        \n",
    "        batch = random.sample(self.memory, BATCH_SIZE)\n",
    "        present_q_values = self.present_q_model.predict(np.array([x[1] for x in batch])).tolist()\n",
    "        future_q_values = self.future_q_model.predict(np.array([x[3] for x in batch])).tolist()\n",
    "        for index, slot in enumerate(batch):\n",
    "            if not slot[4]:\n",
    "                q_future_max = np.max(future_q_values[index])\n",
    "                qnew = q_new(q_future_max, slot[2])\n",
    "            else:\n",
    "                qnew = slot[2]\n",
    "            \n",
    "            present_q_values[index][slot[0]] = qnew\n",
    "            \n",
    "        X = np.array([slot[1] for slot in batch])\n",
    "        Y = np.array(present_q_values)\n",
    "        \n",
    "        history = self.present_q_model.fit(X, Y, batch_size=BATCH_SIZE,\n",
    "                                           shuffle=False, verbose = 0)\n",
    "        \n",
    "        if self.episodes % UPDATE_AFTER_EPISODES == 0:\n",
    "            self.future_q_model.set_weights(self.present_q_model.get_weights())\n",
    "                \n",
    "    def next_action(self):\n",
    "        q_values = self.present_q_model.predict(np.array([self.state])).tolist()\n",
    "        \n",
    "        if np.random.random() > self.epsilon:\n",
    "            action = np.argmax(q_values)\n",
    "        else:\n",
    "            action = np.random.randint(0, env.action_space.n)\n",
    "            \n",
    "        new_state, reward, done, info = env.step(action)\n",
    "        self.total_score += reward\n",
    "        self.score_per_episode += reward\n",
    "        \n",
    "        if done:\n",
    "            self.all_scores.append(self.score_per_episode)\n",
    "            self.score_per_episode = 0\n",
    "            if PLOT:\n",
    "                plt.plot(self.all_scores,'g-')\n",
    "                plt.pause(0.05)\n",
    "            self.episodes +=1\n",
    "            if self.episodes % RENDER_AFTER_EPISODES == 0:\n",
    "                self.render = True\n",
    "            else:\n",
    "                self.render = False\n",
    "                \n",
    "            if self.episodes % AVG_OF_LAST == 0:\n",
    "                self.avg_score = self.total_score/AVG_OF_LAST\n",
    "                print(f\"Average Score = {self.avg_score}\")\n",
    "                self.total_score = 0\n",
    "                        \n",
    "        if self.render:\n",
    "            #env.render()\n",
    "            None\n",
    "            \n",
    "            \n",
    "        self.memory.append([action, self.state, reward, new_state.tolist(), done])\n",
    "        self.state = new_state.tolist() if not done else env.reset().tolist()\n",
    "        \n",
    "        self.train()\n",
    "        if self.epsilon > MIN_EPSILON:\n",
    "            self.epsilon *= EPSILON_DECAY\n",
    "            self.epsilon = max(MIN_EPSILON, self.epsilon)\n",
    "        \n",
    "        return done\n",
    "        "
   ]
  },
  {
   "cell_type": "code",
   "execution_count": null,
   "metadata": {
    "scrolled": true
   },
   "outputs": [
    {
     "name": "stdout",
     "output_type": "stream",
     "text": [
      "CartPoleEnv - Version 0.2.0, Noise case: 1\n",
      "WARNING:tensorflow:From /home/anany/anaconda3/envs/ML/lib/python3.6/site-packages/tensorflow_core/python/ops/resource_variable_ops.py:1635: calling BaseResourceVariable.__init__ (from tensorflow.python.ops.resource_variable_ops) with constraint is deprecated and will be removed in a future version.\n",
      "Instructions for updating:\n",
      "If using Keras pass *_constraint arguments to layers.\n"
     ]
    },
    {
     "name": "stderr",
     "output_type": "stream",
     "text": [
      "/home/anany/anaconda3/envs/ML/lib/python3.6/site-packages/gym/logger.py:30: UserWarning: \u001b[33mWARN: Environment '<class 'gym.envs.classic_control.cartpole.CartPoleEnv'>' has deprecated methods '_step' and '_reset' rather than 'step' and 'reset'. Compatibility code invoked. Set _gym_disable_underscore_compat = True to disable this behavior.\u001b[0m\n",
      "  warnings.warn(colorize('%s: %s'%('WARN', msg % args), 'yellow'))\n",
      "  0%|          | 1/1000 [00:00<01:48,  9.25it/s]"
     ]
    },
    {
     "name": "stdout",
     "output_type": "stream",
     "text": [
      "Model: \"sequential\"\n",
      "_________________________________________________________________\n",
      "Layer (type)                 Output Shape              Param #   \n",
      "=================================================================\n",
      "dense (Dense)                (None, 128)               640       \n",
      "_________________________________________________________________\n",
      "dropout (Dropout)            (None, 128)               0         \n",
      "_________________________________________________________________\n",
      "dense_1 (Dense)              (None, 64)                8256      \n",
      "_________________________________________________________________\n",
      "dropout_1 (Dropout)          (None, 64)                0         \n",
      "_________________________________________________________________\n",
      "dense_2 (Dense)              (None, 2)                 130       \n",
      "=================================================================\n",
      "Total params: 9,026\n",
      "Trainable params: 9,026\n",
      "Non-trainable params: 0\n",
      "_________________________________________________________________\n",
      "None\n",
      "Model: \"sequential_1\"\n",
      "_________________________________________________________________\n",
      "Layer (type)                 Output Shape              Param #   \n",
      "=================================================================\n",
      "dense_3 (Dense)              (None, 128)               640       \n",
      "_________________________________________________________________\n",
      "dropout_2 (Dropout)          (None, 128)               0         \n",
      "_________________________________________________________________\n",
      "dense_4 (Dense)              (None, 64)                8256      \n",
      "_________________________________________________________________\n",
      "dropout_3 (Dropout)          (None, 64)                0         \n",
      "_________________________________________________________________\n",
      "dense_5 (Dense)              (None, 2)                 130       \n",
      "=================================================================\n",
      "Total params: 9,026\n",
      "Trainable params: 9,026\n",
      "Non-trainable params: 0\n",
      "_________________________________________________________________\n",
      "None\n"
     ]
    },
    {
     "name": "stderr",
     "output_type": "stream",
     "text": [
      " 10%|█         | 100/1000 [06:31<2:06:50,  8.46s/it]"
     ]
    },
    {
     "name": "stdout",
     "output_type": "stream",
     "text": [
      "Average Score = 159.26\n"
     ]
    },
    {
     "name": "stderr",
     "output_type": "stream",
     "text": [
      " 16%|█▌        | 156/1000 [14:53<2:43:17, 11.61s/it]"
     ]
    }
   ],
   "source": [
    "import gym\n",
    "env = gym.make('CartPole-v1')\n",
    "agent = Agent()\n",
    "for episode in tqdm(range(TOTAL_EPISODES)):\n",
    "    while True:\n",
    "        stop = agent.next_action()\n",
    "        if stop:\n",
    "            if agent.avg_score >= SAVE_AT_AVG:\n",
    "                agent.present_q_model.save(f\"{SAVE}/model-{TASK}-{agent.avg_score}.h5\")\n",
    "            break"
   ]
  },
  {
   "cell_type": "code",
   "execution_count": null,
   "metadata": {},
   "outputs": [],
   "source": [
    "#PLEASE RUN THE FIRST TWO CODE BLOCKS BEFORE RUNNING THIS BLOCK\n",
    "if PLAY:\n",
    "    import gym\n",
    "    env = gym.make('CartPole-v1')\n",
    "    score = input(\"Enter the score of the model you want to load \")\n",
    "    trained_agent = load_model(f\"{SAVE}/model-{TASK}-{score}.h5\")\n",
    "    state = env.reset()\n",
    "    avg_score = 0\n",
    "    for _ in tqdm(range(PLAY_EPISODES)):\n",
    "        env.reset()\n",
    "        while True:\n",
    "            action = np.argmax(trained_agent.predict([state.tolist()]))\n",
    "            state, reward, done, info = env.step(action)\n",
    "            avg_score += reward\n",
    "            if SHOW:\n",
    "                env.render()\n",
    "            if done:\n",
    "                break\n",
    "    print(avg_score/PLAY_EPISODES)"
   ]
  },
  {
   "cell_type": "code",
   "execution_count": null,
   "metadata": {},
   "outputs": [],
   "source": []
  }
 ],
 "metadata": {
  "kernelspec": {
   "display_name": "ML",
   "language": "python",
   "name": "ml"
  },
  "language_info": {
   "codemirror_mode": {
    "name": "ipython",
    "version": 3
   },
   "file_extension": ".py",
   "mimetype": "text/x-python",
   "name": "python",
   "nbconvert_exporter": "python",
   "pygments_lexer": "ipython3",
   "version": "3.6.10"
  }
 },
 "nbformat": 4,
 "nbformat_minor": 4
}
