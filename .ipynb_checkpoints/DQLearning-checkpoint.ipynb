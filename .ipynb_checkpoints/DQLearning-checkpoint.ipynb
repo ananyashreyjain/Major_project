{
 "cells": [
  {
   "cell_type": "code",
   "execution_count": 10,
   "metadata": {},
   "outputs": [],
   "source": [
    "import tensorflow as tf\n",
    "from tensorflow.keras import Sequential\n",
    "from tensorflow.keras.layers import Dense, Flatten, LSTM, Dropout\n",
    "from tensorflow.keras.optimizers import Adam, RMSprop\n",
    "from tensorflow.keras.callbacks import Callback\n",
    "from collections import deque\n",
    "import numpy as np\n",
    "from tqdm import tqdm\n",
    "import random\n",
    "import os"
   ]
  },
  {
   "cell_type": "code",
   "execution_count": 11,
   "metadata": {},
   "outputs": [],
   "source": [
    "#Important Parameters\n",
    "AGENT_MEMORY = 50000\n",
    "UPDATE_AFTER_EPISODES = 5\n",
    "HIDDEN_LAYERS= [128, 64]\n",
    "BATCH_SIZE = 32\n",
    "DISCOUNT = 0.99\n",
    "LEARNING_RATE = 0.005\n",
    "LOSS_FUNCTION = 'mse'\n",
    "AVG_OF_LAST = 100\n",
    "TASK = 1\n",
    "\n",
    "#Unimportant Parameters\n",
    "OPTIMIZER = Adam(lr=LEARNING_RATE)\n",
    "RENDER_AFTER_EPISODES = 25\n",
    "q_new = lambda q_max, reward: (reward + DISCOUNT * q_max)\n",
    "TOTAL_EPISODES = 1000\n",
    "MAX_EPSILON = 1\n",
    "EPSILON_DECAY = 0.975\n",
    "MIN_EPSILON = 0.001\n",
    "DROP_PRECENT = 0.1\n",
    "\n",
    "#Kernel Parameters\n",
    "SAVE_AT_AVG = 400\n",
    "ONLINE = False\n",
    "TPU = True"
   ]
  },
  {
   "cell_type": "code",
   "execution_count": 12,
   "metadata": {},
   "outputs": [],
   "source": [
    "if TPU and ONLINE:\n",
    "    resolver = tf.distribute.cluster_resolver.TPUClusterResolver(tpu='grpc://' + os.environ['COLAB_TPU_ADDR'])\n",
    "    tf.config.experimental_connect_to_cluster(resolver)\n",
    "    tf.tpu.experimental.initialize_tpu_system(resolver)\n",
    "    strategy = tf.distribute.experimental.TPUStrategy(resolver)"
   ]
  },
  {
   "cell_type": "code",
   "execution_count": 13,
   "metadata": {},
   "outputs": [],
   "source": [
    "if ONLINE:\n",
    "    from google.colab import drive\n",
    "    drive.mount(\"/content/drive\")"
   ]
  },
  {
   "cell_type": "code",
   "execution_count": 14,
   "metadata": {},
   "outputs": [
    {
     "name": "stdout",
     "output_type": "stream",
     "text": [
      "#TASK 1\n",
      "\n"
     ]
    }
   ],
   "source": [
    "if ONLINE:\n",
    "    PATH1 = f\"/content/drive/My\\ Drive/task{TASK}.py\"\n",
    "    PATH2 = \"/usr/local/lib/python3.6/dist-packages/gym/envs/classic_control/cartpole.py\"\n",
    "else :\n",
    "    PATH1 = f\"/home/anany/ML_project/task{TASK}.py\"\n",
    "    PATH2 = \"/home/anany/anaconda3/envs/ML/lib/python3.6/site-packages/gym/envs/classic_control/cartpole.py\"\n",
    "\n",
    "os.system('cp '+ PATH1 + ' ' + PATH2)\n",
    "with open(PATH2, 'r') as f:\n",
    "    print(f.readline())"
   ]
  },
  {
   "cell_type": "code",
   "execution_count": 6,
   "metadata": {},
   "outputs": [],
   "source": [
    "class Agent:\n",
    "\n",
    "    def __init__(self):\n",
    "        self.state = env.reset().tolist()\n",
    "        self.done = False\n",
    "        self.score = 0\n",
    "        self.render = True\n",
    "        self.epsilon = MAX_EPSILON\n",
    "        self.avg_reward = 0\n",
    "        self.present_q_model = Sequential()\n",
    "        self.present_q_model.add(Dense(HIDDEN_LAYERS[0],\n",
    "                                       input_shape=(env.observation_space.low.size,),\n",
    "                                       activation='relu'))\n",
    "        self.present_q_model.add(Dropout(DROP_PRECENT))\n",
    "        for index in range(1, len(HIDDEN_LAYERS)):\n",
    "            self.present_q_model.add(Dense(HIDDEN_LAYERS[index],activation='relu'))\n",
    "            self.present_q_model.add(Dropout(DROP_PRECENT))\n",
    "        self.present_q_model.add(Dense(env.action_space.n,activation='linear'))\n",
    "        self.present_q_model.compile(loss=LOSS_FUNCTION, optimizer=OPTIMIZER,\n",
    "                                     metrics=['accuracy'])\n",
    "        \n",
    "        self.future_q_model = Sequential()\n",
    "        self.future_q_model.add(Dense(HIDDEN_LAYERS[0],\n",
    "                                      input_shape=(env.observation_space.low.size,),\n",
    "                                      activation='relu'))\n",
    "        self.future_q_model.add(Dropout(DROP_PRECENT))\n",
    "        for index in range(1, len(HIDDEN_LAYERS)):\n",
    "            self.future_q_model.add(Dense(HIDDEN_LAYERS[index],activation='relu'))\n",
    "            self.future_q_model.add(Dropout(DROP_PRECENT))\n",
    "        self.future_q_model.add(Dense(env.action_space.n,activation='linear'))\n",
    "        self.future_q_model.compile(loss=LOSS_FUNCTION, optimizer=OPTIMIZER, \n",
    "                                    metrics=['accuracy'])\n",
    "\n",
    "        self.future_q_model.set_weights(self.present_q_model.get_weights())\n",
    "        \n",
    "        self.memory = deque(maxlen=AGENT_MEMORY)\n",
    "        self.episodes = 0\n",
    "        print(self.present_q_model.summary())\n",
    "        print(self.future_q_model.summary())\n",
    "        \n",
    "    def train(self):\n",
    "        if len(self.memory) < BATCH_SIZE :\n",
    "            return\n",
    "        \n",
    "        batch = random.sample(self.memory, BATCH_SIZE)\n",
    "        present_q_values = self.present_q_model.predict([x[1] for x in batch]).tolist()\n",
    "        future_q_values = self.future_q_model.predict([x[3] for x in batch]).tolist()\n",
    "        for index, slot in enumerate(batch):\n",
    "            if not slot[4]:\n",
    "                q_future_max = np.max(future_q_values[index])\n",
    "                qnew = q_new(q_future_max, slot[2])\n",
    "            else:\n",
    "                qnew = slot[2]\n",
    "            \n",
    "            present_q_values[index][slot[0]] = qnew\n",
    "            \n",
    "        X = [slot[1] for slot in batch]\n",
    "        Y = present_q_values\n",
    "        \n",
    "        history = self.present_q_model.fit(X, Y, batch_size=BATCH_SIZE,\n",
    "                                           shuffle=False, verbose = 0)\n",
    "        \n",
    "        if self.episodes % UPDATE_AFTER_EPISODES == 0:\n",
    "            self.future_q_model.set_weights(self.present_q_model.get_weights())\n",
    "                \n",
    "    def next_action(self):\n",
    "        q_values = self.present_q_model.predict([self.state]).tolist()\n",
    "        \n",
    "        if np.random.random() > self.epsilon:\n",
    "            action = np.argmax(q_values)\n",
    "        else:\n",
    "            action = np.random.randint(0, env.action_space.n)\n",
    "            \n",
    "        new_state, reward, done, info = env.step(action)\n",
    "        self.score += 1\n",
    "        \n",
    "        if done:\n",
    "            self.episodes +=1\n",
    "            if self.episodes % RENDER_AFTER_EPISODES == 0:\n",
    "                self.render = True\n",
    "            else:\n",
    "                self.render = False\n",
    "                \n",
    "            if self.episodes % AVG_OF_LAST == 0:\n",
    "                self.avg_reward = self.score/AVG_OF_LAST\n",
    "                print(f\"Average Score = {self.avg_reward}\")\n",
    "                self.score = 0\n",
    "                        \n",
    "        if self.render:\n",
    "            #env.render()\n",
    "            None\n",
    "            \n",
    "            \n",
    "        self.memory.append([action, self.state, reward, new_state.tolist(), done])\n",
    "        self.state = new_state.tolist() if not done else env.reset().tolist()\n",
    "        \n",
    "        self.train()\n",
    "        if self.epsilon > MIN_EPSILON:\n",
    "            self.epsilon *= EPSILON_DECAY\n",
    "            self.epsilon = max(MIN_EPSILON, self.epsilon)\n",
    "        \n",
    "        return done\n",
    "        "
   ]
  },
  {
   "cell_type": "code",
   "execution_count": null,
   "metadata": {},
   "outputs": [
    {
     "name": "stdout",
     "output_type": "stream",
     "text": [
      "CartPoleEnv - Version 0.2.0, Noise case: 1\n",
      "Model: \"sequential\"\n",
      "_________________________________________________________________\n",
      "Layer (type)                 Output Shape              Param #   \n",
      "=================================================================\n",
      "dense (Dense)                (None, 128)               640       \n",
      "_________________________________________________________________\n",
      "dropout (Dropout)            (None, 128)               0         \n",
      "_________________________________________________________________\n",
      "dense_1 (Dense)              (None, 64)                8256      \n",
      "_________________________________________________________________\n",
      "dropout_1 (Dropout)          (None, 64)                0         \n",
      "_________________________________________________________________\n",
      "dense_2 (Dense)              (None, 2)                 130       \n",
      "=================================================================\n",
      "Total params: 9,026\n",
      "Trainable params: 9,026\n",
      "Non-trainable params: 0\n",
      "_________________________________________________________________\n",
      "None\n",
      "Model: \"sequential_1\"\n",
      "_________________________________________________________________\n",
      "Layer (type)                 Output Shape              Param #   \n",
      "=================================================================\n",
      "dense_3 (Dense)              (None, 128)               640       \n",
      "_________________________________________________________________\n"
     ]
    },
    {
     "name": "stderr",
     "output_type": "stream",
     "text": [
      "/home/anany/anaconda3/envs/ML/lib/python3.6/site-packages/gym/logger.py:30: UserWarning: \u001b[33mWARN: Environment '<class 'gym.envs.classic_control.cartpole.CartPoleEnv'>' has deprecated methods '_step' and '_reset' rather than 'step' and 'reset'. Compatibility code invoked. Set _gym_disable_underscore_compat = True to disable this behavior.\u001b[0m\n",
      "  warnings.warn(colorize('%s: %s'%('WARN', msg % args), 'yellow'))\n",
      "  0%|          | 0/1000 [00:00<?, ?it/s]"
     ]
    },
    {
     "name": "stdout",
     "output_type": "stream",
     "text": [
      "dropout_2 (Dropout)          (None, 128)               0         \n",
      "_________________________________________________________________\n",
      "dense_4 (Dense)              (None, 64)                8256      \n",
      "_________________________________________________________________\n",
      "dropout_3 (Dropout)          (None, 64)                0         \n",
      "_________________________________________________________________\n",
      "dense_5 (Dense)              (None, 2)                 130       \n",
      "=================================================================\n",
      "Total params: 9,026\n",
      "Trainable params: 9,026\n",
      "Non-trainable params: 0\n",
      "_________________________________________________________________\n",
      "None\n"
     ]
    },
    {
     "name": "stderr",
     "output_type": "stream",
     "text": [
      "  6%|▌         | 60/1000 [10:06<12:31:18, 47.96s/it]"
     ]
    }
   ],
   "source": [
    "import gym\n",
    "env = gym.make('CartPole-v1')\n",
    "agent = Agent()\n",
    "for episode in tqdm(range(TOTAL_EPISODES)):\n",
    "    while True:\n",
    "        stop = agent.next_action()\n",
    "        if stop:\n",
    "            if agent.avg_reward >= SAVE_AT_AVG:\n",
    "                if ONLINE:\n",
    "                    _ = agent.present_q_model.save(f\"/content/drive/My Drive/model-{TASK}-{agent.avg_reward}.h5\")\n",
    "                else:\n",
    "                    _ = agent.present_q_model.save(f\"model-{TASK}-{agent.avg_reward}.h5\")\n",
    "            break"
   ]
  },
  {
   "cell_type": "code",
   "execution_count": null,
   "metadata": {},
   "outputs": [],
   "source": []
  }
 ],
 "metadata": {
  "kernelspec": {
   "display_name": "ML",
   "language": "python",
   "name": "ml"
  },
  "language_info": {
   "codemirror_mode": {
    "name": "ipython",
    "version": 3
   },
   "file_extension": ".py",
   "mimetype": "text/x-python",
   "name": "python",
   "nbconvert_exporter": "python",
   "pygments_lexer": "ipython3",
   "version": "3.6.10"
  }
 },
 "nbformat": 4,
 "nbformat_minor": 4
}
