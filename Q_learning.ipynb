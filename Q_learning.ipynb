{
 "cells": [
  {
   "cell_type": "code",
   "execution_count": 1,
   "metadata": {},
   "outputs": [
    {
     "name": "stdout",
     "output_type": "stream",
     "text": [
      "Using matplotlib backend: Qt5Agg\n"
     ]
    }
   ],
   "source": [
    "import gym\n",
    "import numpy as np\n",
    "import matplotlib.pyplot as plt\n",
    "%matplotlib"
   ]
  },
  {
   "cell_type": "code",
   "execution_count": 2,
   "metadata": {},
   "outputs": [
    {
     "name": "stdout",
     "output_type": "stream",
     "text": [
      "CartPoleEnv - Version 0.2.0, Noise case: 1\n"
     ]
    },
    {
     "name": "stderr",
     "output_type": "stream",
     "text": [
      "/home/anany/anaconda3/envs/ML/lib/python3.6/site-packages/gym/logger.py:30: UserWarning: \u001b[33mWARN: Environment '<class 'gym.envs.classic_control.cartpole.CartPoleEnv'>' has deprecated methods '_step' and '_reset' rather than 'step' and 'reset'. Compatibility code invoked. Set _gym_disable_underscore_compat = True to disable this behavior.\u001b[0m\n",
      "  warnings.warn(colorize('%s: %s'%('WARN', msg % args), 'yellow'))\n"
     ]
    }
   ],
   "source": [
    "env = gym.make('CartPole-v1')"
   ]
  },
  {
   "cell_type": "code",
   "execution_count": 3,
   "metadata": {},
   "outputs": [],
   "source": [
    "#parameters\n",
    "obs_space = len(env.observation_space.high)\n",
    "buckets = (20, 500, 20, 500)\n",
    "LEARNING_RATE = 0.01\n",
    "EPISODES = 3000\n",
    "DISCOUNT = 0.997\n",
    "MAX_FRAMES = 500\n",
    "act_space = env.action_space.n\n",
    "bucket_size = env.observation_space.high/buckets - env.observation_space.low/buckets\n",
    "q_table = np.random.randint(low=-500, high=0, size=(buckets + (act_space,)))"
   ]
  },
  {
   "cell_type": "code",
   "execution_count": 4,
   "metadata": {},
   "outputs": [],
   "source": [
    "def bucket_no(state):\n",
    "    bucket = state/bucket_size - env.observation_space.low/bucket_size\n",
    "    return tuple(bucket.astype(np.int64))"
   ]
  },
  {
   "cell_type": "code",
   "execution_count": 5,
   "metadata": {},
   "outputs": [],
   "source": [
    "def plot(scores=[]):\n",
    "    plt.clf()\n",
    "    avg_scores = [sum(scores[:index+1])/(index+1) for index, \n",
    "                  score in enumerate(scores)]\n",
    "    avg_score = sum(scores)/len(scores)\n",
    "    x_val = [0,len(scores)-1]\n",
    "    y_val = [avg_score, avg_score]\n",
    "    plt.plot(scores,'g-', label='current score')\n",
    "    plt.plot(x_val, y_val,'r-', label='average score')\n",
    "    plt.plot(avg_scores,'b-', label='average scores')\n",
    "    plt.xlabel('Episodes--->')\n",
    "    plt.ylabel('Score--->')\n",
    "    plt.legend()\n",
    "    plt.pause(0.01)"
   ]
  },
  {
   "cell_type": "code",
   "execution_count": 6,
   "metadata": {},
   "outputs": [],
   "source": [
    "def next_action(state):\n",
    "    return np.argmax(q_table[bucket_no(state)])"
   ]
  },
  {
   "cell_type": "code",
   "execution_count": 7,
   "metadata": {},
   "outputs": [],
   "source": [
    "def play():\n",
    "    score_list = np.array([])\n",
    "    for episode in range(EPISODES):\n",
    "        state = env.reset()\n",
    "        score = 0\n",
    "        for frame in range(MAX_FRAMES):\n",
    "            step = next_action(state)\n",
    "            next_state, reward, done, info = env.step(step)\n",
    "            if done:\n",
    "                q_table[bucket_no(state) + (step,)] = -500 + score\n",
    "                break\n",
    "            qt_current = q_table[bucket_no(state) + (step,)]\n",
    "            max_qt_poss = np.max(q_table[bucket_no(next_state)])\n",
    "            new_q = (1 - LEARNING_RATE) * qt_current + LEARNING_RATE * (score + DISCOUNT * max_qt_poss)\n",
    "            q_table[bucket_no(state) + (step,)] = new_q\n",
    "            state = next_state\n",
    "            score += reward\n",
    "        score_list = np.concatenate((score_list, score), axis=None)\n",
    "        if not episode % 500:\n",
    "            plot(score_list)\n",
    "    env.close()"
   ]
  },
  {
   "cell_type": "code",
   "execution_count": 8,
   "metadata": {},
   "outputs": [],
   "source": [
    "play()"
   ]
  },
  {
   "cell_type": "code",
   "execution_count": null,
   "metadata": {},
   "outputs": [],
   "source": []
  }
 ],
 "metadata": {
  "kernelspec": {
   "display_name": "ML",
   "language": "python",
   "name": "ml"
  },
  "language_info": {
   "codemirror_mode": {
    "name": "ipython",
    "version": 3
   },
   "file_extension": ".py",
   "mimetype": "text/x-python",
   "name": "python",
   "nbconvert_exporter": "python",
   "pygments_lexer": "ipython3",
   "version": "3.6.10"
  }
 },
 "nbformat": 4,
 "nbformat_minor": 4
}
